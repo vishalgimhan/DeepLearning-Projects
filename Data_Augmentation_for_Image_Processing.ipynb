{
  "nbformat": 4,
  "nbformat_minor": 0,
  "metadata": {
    "colab": {
      "provenance": [],
      "authorship_tag": "ABX9TyPsG60oz7+Oi9p98SzFpZZQ",
      "include_colab_link": true
    },
    "kernelspec": {
      "name": "python3",
      "display_name": "Python 3"
    },
    "language_info": {
      "name": "python"
    },
    "widgets": {
      "application/vnd.jupyter.widget-state+json": {
        "cc199f75eebe49f1b7e1b785e0952a9e": {
          "model_module": "@jupyter-widgets/controls",
          "model_name": "HBoxModel",
          "model_module_version": "1.5.0",
          "state": {
            "_dom_classes": [],
            "_model_module": "@jupyter-widgets/controls",
            "_model_module_version": "1.5.0",
            "_model_name": "HBoxModel",
            "_view_count": null,
            "_view_module": "@jupyter-widgets/controls",
            "_view_module_version": "1.5.0",
            "_view_name": "HBoxView",
            "box_style": "",
            "children": [
              "IPY_MODEL_5b883b1c25054bfca8ee1bd27783f801",
              "IPY_MODEL_2a12481c5c124a5dbf15407ae090c67d",
              "IPY_MODEL_1970c0f3744b4b4a943609cf5d20c346"
            ],
            "layout": "IPY_MODEL_0a36dae82f664bbbbf1afed57ec5a177"
          }
        },
        "5b883b1c25054bfca8ee1bd27783f801": {
          "model_module": "@jupyter-widgets/controls",
          "model_name": "HTMLModel",
          "model_module_version": "1.5.0",
          "state": {
            "_dom_classes": [],
            "_model_module": "@jupyter-widgets/controls",
            "_model_module_version": "1.5.0",
            "_model_name": "HTMLModel",
            "_view_count": null,
            "_view_module": "@jupyter-widgets/controls",
            "_view_module_version": "1.5.0",
            "_view_name": "HTMLView",
            "description": "",
            "description_tooltip": null,
            "layout": "IPY_MODEL_5fbc68d13106471b8b3521ca7eff6b9e",
            "placeholder": "​",
            "style": "IPY_MODEL_d7d7f633bafc4676a7650d7efd5072b7",
            "value": "Dl Completed...: 100%"
          }
        },
        "2a12481c5c124a5dbf15407ae090c67d": {
          "model_module": "@jupyter-widgets/controls",
          "model_name": "FloatProgressModel",
          "model_module_version": "1.5.0",
          "state": {
            "_dom_classes": [],
            "_model_module": "@jupyter-widgets/controls",
            "_model_module_version": "1.5.0",
            "_model_name": "FloatProgressModel",
            "_view_count": null,
            "_view_module": "@jupyter-widgets/controls",
            "_view_module_version": "1.5.0",
            "_view_name": "ProgressView",
            "bar_style": "success",
            "description": "",
            "description_tooltip": null,
            "layout": "IPY_MODEL_a0a787d7f8d04413843eca780f3430b1",
            "max": 5,
            "min": 0,
            "orientation": "horizontal",
            "style": "IPY_MODEL_b5aba58c3a114240a04192af56d9246a",
            "value": 5
          }
        },
        "1970c0f3744b4b4a943609cf5d20c346": {
          "model_module": "@jupyter-widgets/controls",
          "model_name": "HTMLModel",
          "model_module_version": "1.5.0",
          "state": {
            "_dom_classes": [],
            "_model_module": "@jupyter-widgets/controls",
            "_model_module_version": "1.5.0",
            "_model_name": "HTMLModel",
            "_view_count": null,
            "_view_module": "@jupyter-widgets/controls",
            "_view_module_version": "1.5.0",
            "_view_name": "HTMLView",
            "description": "",
            "description_tooltip": null,
            "layout": "IPY_MODEL_2beb2a217ba746b2b4bacc18e5a30344",
            "placeholder": "​",
            "style": "IPY_MODEL_d0d2198c7ba042ef9a7f12b1908f03e3",
            "value": " 5/5 [00:00&lt;00:00, 12.39 file/s]"
          }
        },
        "0a36dae82f664bbbbf1afed57ec5a177": {
          "model_module": "@jupyter-widgets/base",
          "model_name": "LayoutModel",
          "model_module_version": "1.2.0",
          "state": {
            "_model_module": "@jupyter-widgets/base",
            "_model_module_version": "1.2.0",
            "_model_name": "LayoutModel",
            "_view_count": null,
            "_view_module": "@jupyter-widgets/base",
            "_view_module_version": "1.2.0",
            "_view_name": "LayoutView",
            "align_content": null,
            "align_items": null,
            "align_self": null,
            "border": null,
            "bottom": null,
            "display": null,
            "flex": null,
            "flex_flow": null,
            "grid_area": null,
            "grid_auto_columns": null,
            "grid_auto_flow": null,
            "grid_auto_rows": null,
            "grid_column": null,
            "grid_gap": null,
            "grid_row": null,
            "grid_template_areas": null,
            "grid_template_columns": null,
            "grid_template_rows": null,
            "height": null,
            "justify_content": null,
            "justify_items": null,
            "left": null,
            "margin": null,
            "max_height": null,
            "max_width": null,
            "min_height": null,
            "min_width": null,
            "object_fit": null,
            "object_position": null,
            "order": null,
            "overflow": null,
            "overflow_x": null,
            "overflow_y": null,
            "padding": null,
            "right": null,
            "top": null,
            "visibility": null,
            "width": null
          }
        },
        "5fbc68d13106471b8b3521ca7eff6b9e": {
          "model_module": "@jupyter-widgets/base",
          "model_name": "LayoutModel",
          "model_module_version": "1.2.0",
          "state": {
            "_model_module": "@jupyter-widgets/base",
            "_model_module_version": "1.2.0",
            "_model_name": "LayoutModel",
            "_view_count": null,
            "_view_module": "@jupyter-widgets/base",
            "_view_module_version": "1.2.0",
            "_view_name": "LayoutView",
            "align_content": null,
            "align_items": null,
            "align_self": null,
            "border": null,
            "bottom": null,
            "display": null,
            "flex": null,
            "flex_flow": null,
            "grid_area": null,
            "grid_auto_columns": null,
            "grid_auto_flow": null,
            "grid_auto_rows": null,
            "grid_column": null,
            "grid_gap": null,
            "grid_row": null,
            "grid_template_areas": null,
            "grid_template_columns": null,
            "grid_template_rows": null,
            "height": null,
            "justify_content": null,
            "justify_items": null,
            "left": null,
            "margin": null,
            "max_height": null,
            "max_width": null,
            "min_height": null,
            "min_width": null,
            "object_fit": null,
            "object_position": null,
            "order": null,
            "overflow": null,
            "overflow_x": null,
            "overflow_y": null,
            "padding": null,
            "right": null,
            "top": null,
            "visibility": null,
            "width": null
          }
        },
        "d7d7f633bafc4676a7650d7efd5072b7": {
          "model_module": "@jupyter-widgets/controls",
          "model_name": "DescriptionStyleModel",
          "model_module_version": "1.5.0",
          "state": {
            "_model_module": "@jupyter-widgets/controls",
            "_model_module_version": "1.5.0",
            "_model_name": "DescriptionStyleModel",
            "_view_count": null,
            "_view_module": "@jupyter-widgets/base",
            "_view_module_version": "1.2.0",
            "_view_name": "StyleView",
            "description_width": ""
          }
        },
        "a0a787d7f8d04413843eca780f3430b1": {
          "model_module": "@jupyter-widgets/base",
          "model_name": "LayoutModel",
          "model_module_version": "1.2.0",
          "state": {
            "_model_module": "@jupyter-widgets/base",
            "_model_module_version": "1.2.0",
            "_model_name": "LayoutModel",
            "_view_count": null,
            "_view_module": "@jupyter-widgets/base",
            "_view_module_version": "1.2.0",
            "_view_name": "LayoutView",
            "align_content": null,
            "align_items": null,
            "align_self": null,
            "border": null,
            "bottom": null,
            "display": null,
            "flex": null,
            "flex_flow": null,
            "grid_area": null,
            "grid_auto_columns": null,
            "grid_auto_flow": null,
            "grid_auto_rows": null,
            "grid_column": null,
            "grid_gap": null,
            "grid_row": null,
            "grid_template_areas": null,
            "grid_template_columns": null,
            "grid_template_rows": null,
            "height": null,
            "justify_content": null,
            "justify_items": null,
            "left": null,
            "margin": null,
            "max_height": null,
            "max_width": null,
            "min_height": null,
            "min_width": null,
            "object_fit": null,
            "object_position": null,
            "order": null,
            "overflow": null,
            "overflow_x": null,
            "overflow_y": null,
            "padding": null,
            "right": null,
            "top": null,
            "visibility": null,
            "width": null
          }
        },
        "b5aba58c3a114240a04192af56d9246a": {
          "model_module": "@jupyter-widgets/controls",
          "model_name": "ProgressStyleModel",
          "model_module_version": "1.5.0",
          "state": {
            "_model_module": "@jupyter-widgets/controls",
            "_model_module_version": "1.5.0",
            "_model_name": "ProgressStyleModel",
            "_view_count": null,
            "_view_module": "@jupyter-widgets/base",
            "_view_module_version": "1.2.0",
            "_view_name": "StyleView",
            "bar_color": null,
            "description_width": ""
          }
        },
        "2beb2a217ba746b2b4bacc18e5a30344": {
          "model_module": "@jupyter-widgets/base",
          "model_name": "LayoutModel",
          "model_module_version": "1.2.0",
          "state": {
            "_model_module": "@jupyter-widgets/base",
            "_model_module_version": "1.2.0",
            "_model_name": "LayoutModel",
            "_view_count": null,
            "_view_module": "@jupyter-widgets/base",
            "_view_module_version": "1.2.0",
            "_view_name": "LayoutView",
            "align_content": null,
            "align_items": null,
            "align_self": null,
            "border": null,
            "bottom": null,
            "display": null,
            "flex": null,
            "flex_flow": null,
            "grid_area": null,
            "grid_auto_columns": null,
            "grid_auto_flow": null,
            "grid_auto_rows": null,
            "grid_column": null,
            "grid_gap": null,
            "grid_row": null,
            "grid_template_areas": null,
            "grid_template_columns": null,
            "grid_template_rows": null,
            "height": null,
            "justify_content": null,
            "justify_items": null,
            "left": null,
            "margin": null,
            "max_height": null,
            "max_width": null,
            "min_height": null,
            "min_width": null,
            "object_fit": null,
            "object_position": null,
            "order": null,
            "overflow": null,
            "overflow_x": null,
            "overflow_y": null,
            "padding": null,
            "right": null,
            "top": null,
            "visibility": null,
            "width": null
          }
        },
        "d0d2198c7ba042ef9a7f12b1908f03e3": {
          "model_module": "@jupyter-widgets/controls",
          "model_name": "DescriptionStyleModel",
          "model_module_version": "1.5.0",
          "state": {
            "_model_module": "@jupyter-widgets/controls",
            "_model_module_version": "1.5.0",
            "_model_name": "DescriptionStyleModel",
            "_view_count": null,
            "_view_module": "@jupyter-widgets/base",
            "_view_module_version": "1.2.0",
            "_view_name": "StyleView",
            "description_width": ""
          }
        }
      }
    }
  },
  "cells": [
    {
      "cell_type": "markdown",
      "metadata": {
        "id": "view-in-github",
        "colab_type": "text"
      },
      "source": [
        "<a href=\"https://colab.research.google.com/github/vishalgimhan/DeepLearning-Projects/blob/main/Data_Augmentation_for_Image_Processing.ipynb\" target=\"_parent\"><img src=\"https://colab.research.google.com/assets/colab-badge.svg\" alt=\"Open In Colab\"/></a>"
      ]
    },
    {
      "cell_type": "code",
      "execution_count": 1,
      "metadata": {
        "colab": {
          "base_uri": "https://localhost:8080/"
        },
        "id": "BFL2OPhE1VVg",
        "outputId": "d6eecc52-25a8-4c19-9e80-2dc5c06afd2e"
      },
      "outputs": [
        {
          "output_type": "stream",
          "name": "stdout",
          "text": [
            "Collecting git+http://github.com/tensorflow/docs\n",
            "  Cloning http://github.com/tensorflow/docs to /tmp/pip-req-build-l3b2_9sc\n",
            "  Running command git clone --filter=blob:none --quiet http://github.com/tensorflow/docs /tmp/pip-req-build-l3b2_9sc\n",
            "  warning: redirecting to https://github.com/tensorflow/docs/\n",
            "  Resolved http://github.com/tensorflow/docs to commit bd1c16109023bcf73755ee0e1552140bf377573c\n",
            "  Preparing metadata (setup.py) ... \u001b[?25l\u001b[?25hdone\n",
            "Collecting astor (from tensorflow-docs==2024.10.14.18741)\n",
            "  Downloading astor-0.8.1-py2.py3-none-any.whl.metadata (4.2 kB)\n",
            "Requirement already satisfied: absl-py in /usr/local/lib/python3.10/dist-packages (from tensorflow-docs==2024.10.14.18741) (1.4.0)\n",
            "Requirement already satisfied: jinja2 in /usr/local/lib/python3.10/dist-packages (from tensorflow-docs==2024.10.14.18741) (3.1.4)\n",
            "Requirement already satisfied: nbformat in /usr/local/lib/python3.10/dist-packages (from tensorflow-docs==2024.10.14.18741) (5.10.4)\n",
            "Requirement already satisfied: protobuf>=3.12 in /usr/local/lib/python3.10/dist-packages (from tensorflow-docs==2024.10.14.18741) (3.20.3)\n",
            "Requirement already satisfied: pyyaml in /usr/local/lib/python3.10/dist-packages (from tensorflow-docs==2024.10.14.18741) (6.0.2)\n",
            "Requirement already satisfied: MarkupSafe>=2.0 in /usr/local/lib/python3.10/dist-packages (from jinja2->tensorflow-docs==2024.10.14.18741) (3.0.1)\n",
            "Requirement already satisfied: fastjsonschema>=2.15 in /usr/local/lib/python3.10/dist-packages (from nbformat->tensorflow-docs==2024.10.14.18741) (2.20.0)\n",
            "Requirement already satisfied: jsonschema>=2.6 in /usr/local/lib/python3.10/dist-packages (from nbformat->tensorflow-docs==2024.10.14.18741) (4.23.0)\n",
            "Requirement already satisfied: jupyter-core!=5.0.*,>=4.12 in /usr/local/lib/python3.10/dist-packages (from nbformat->tensorflow-docs==2024.10.14.18741) (5.7.2)\n",
            "Requirement already satisfied: traitlets>=5.1 in /usr/local/lib/python3.10/dist-packages (from nbformat->tensorflow-docs==2024.10.14.18741) (5.7.1)\n",
            "Requirement already satisfied: attrs>=22.2.0 in /usr/local/lib/python3.10/dist-packages (from jsonschema>=2.6->nbformat->tensorflow-docs==2024.10.14.18741) (24.2.0)\n",
            "Requirement already satisfied: jsonschema-specifications>=2023.03.6 in /usr/local/lib/python3.10/dist-packages (from jsonschema>=2.6->nbformat->tensorflow-docs==2024.10.14.18741) (2024.10.1)\n",
            "Requirement already satisfied: referencing>=0.28.4 in /usr/local/lib/python3.10/dist-packages (from jsonschema>=2.6->nbformat->tensorflow-docs==2024.10.14.18741) (0.35.1)\n",
            "Requirement already satisfied: rpds-py>=0.7.1 in /usr/local/lib/python3.10/dist-packages (from jsonschema>=2.6->nbformat->tensorflow-docs==2024.10.14.18741) (0.20.0)\n",
            "Requirement already satisfied: platformdirs>=2.5 in /usr/local/lib/python3.10/dist-packages (from jupyter-core!=5.0.*,>=4.12->nbformat->tensorflow-docs==2024.10.14.18741) (4.3.6)\n",
            "Downloading astor-0.8.1-py2.py3-none-any.whl (27 kB)\n",
            "Building wheels for collected packages: tensorflow-docs\n",
            "  Building wheel for tensorflow-docs (setup.py) ... \u001b[?25l\u001b[?25hdone\n",
            "  Created wheel for tensorflow-docs: filename=tensorflow_docs-2024.10.14.18741-py3-none-any.whl size=182611 sha256=a20c7fb6e709b17c356afe180d2db44c653d068feefd69c22956e63eb879d397\n",
            "  Stored in directory: /tmp/pip-ephem-wheel-cache-q7z6wt3u/wheels/dc/f6/d6/4fc0428d864e2a937cb170c22121fc6d16de1f285f6ea0e392\n",
            "Successfully built tensorflow-docs\n",
            "Installing collected packages: astor, tensorflow-docs\n",
            "Successfully installed astor-0.8.1 tensorflow-docs-2024.10.14.18741\n"
          ]
        }
      ],
      "source": [
        "!pip install git+http://github.com/tensorflow/docs\n",
        "# or\n",
        "# pip install tensorflow_docs\n",
        "# pip install tensorflow_datasets"
      ]
    },
    {
      "cell_type": "code",
      "source": [
        "import urllib\n",
        "\n",
        "import tensorflow as tf\n",
        "from tensorflow.keras.datasets import mnist\n",
        "from tensorflow.keras import layers\n",
        "AUTOTUNE = tf.data.experimental.AUTOTUNE\n",
        "\n",
        "import tensorflow_docs as tfdocs\n",
        "import tensorflow_docs.plots\n",
        "\n",
        "import tensorflow_datasets as tfds\n",
        "\n",
        "import PIL.Image\n",
        "\n",
        "import matplotlib.pyplot as plt\n",
        "import matplotlib as mpl\n",
        "mpl.rcParams['figure.figsize'] = (12, 5)\n",
        "\n",
        "import numpy as np"
      ],
      "metadata": {
        "id": "bRxc-qRNQga6"
      },
      "execution_count": 2,
      "outputs": []
    },
    {
      "cell_type": "code",
      "source": [
        "# Download Image\n",
        "image_path = tf.keras.utils.get_file(\"cat.jpg\", origin=\"https://upload.wikimedia.org/wikipedia/commons/b/b6/Felis_catus-cat_on_snow.jpg\", extract=True)\n",
        "#PIL.Image.open(image_path)"
      ],
      "metadata": {
        "colab": {
          "base_uri": "https://localhost:8080/"
        },
        "id": "1LoLGjbXQuEq",
        "outputId": "df02b6ed-e72e-47c1-f24e-60d58131fbc3"
      },
      "execution_count": 3,
      "outputs": [
        {
          "output_type": "stream",
          "name": "stdout",
          "text": [
            "Downloading data from https://upload.wikimedia.org/wikipedia/commons/b/b6/Felis_catus-cat_on_snow.jpg\n",
            "\u001b[1m2125399/2125399\u001b[0m \u001b[32m━━━━━━━━━━━━━━━━━━━━\u001b[0m\u001b[37m\u001b[0m \u001b[1m0s\u001b[0m 0us/step\n"
          ]
        },
        {
          "output_type": "stream",
          "name": "stderr",
          "text": [
            "<ipython-input-3-d56b9453042e>:2: UserWarning: Could not extract archive.\n",
            "  image_path = tf.keras.utils.get_file(\"cat.jpg\", origin=\"https://upload.wikimedia.org/wikipedia/commons/b/b6/Felis_catus-cat_on_snow.jpg\", extract=True)\n"
          ]
        }
      ]
    },
    {
      "cell_type": "code",
      "source": [
        "# Read and decode the image in format of tensor\n",
        "image_string = tf.io.read_file(image_path)\n",
        "image = tf.image.decode_jpeg(image_string, channels=3)"
      ],
      "metadata": {
        "id": "Q8HkoTEETiIl"
      },
      "execution_count": 4,
      "outputs": []
    },
    {
      "cell_type": "code",
      "source": [
        "def visualize(original, augmented):\n",
        "  fig = plt.figure()\n",
        "  plt.subplot(1,2,1)\n",
        "  plt.title('Original Image')\n",
        "  plt.imshow(original)\n",
        "\n",
        "  plt.subplot(1,2,2)\n",
        "  plt.title('Augmented Image')\n",
        "  plt.imshow(augmented)"
      ],
      "metadata": {
        "id": "gV7Xbga2USAq"
      },
      "execution_count": 5,
      "outputs": []
    },
    {
      "cell_type": "markdown",
      "source": [
        "# Data Augmentation on a Single Image\n"
      ],
      "metadata": {
        "id": "U72jw09VU0Ba"
      }
    },
    {
      "cell_type": "code",
      "source": [
        "flipped = tf.image.flip_left_right(image)\n",
        "#visualize(image, flipped)"
      ],
      "metadata": {
        "id": "H0hCp4ZSUtMp"
      },
      "execution_count": 6,
      "outputs": []
    },
    {
      "cell_type": "code",
      "source": [
        "grayscaled = tf.image.rgb_to_grayscale(image)\n",
        "#visualize(image, tf.squeeze(grayscaled))\n",
        "#plt.colorbar()"
      ],
      "metadata": {
        "id": "WAw-LAfDU6sq"
      },
      "execution_count": 8,
      "outputs": []
    },
    {
      "cell_type": "code",
      "source": [
        "saturated = tf.image.adjust_saturation(image, 3)\n",
        "#visualize(image, saturated)"
      ],
      "metadata": {
        "id": "dQTH4QFKVIhQ"
      },
      "execution_count": 9,
      "outputs": []
    },
    {
      "cell_type": "code",
      "source": [
        "bright = tf.image.adjust_brightness(image, 0.4)\n",
        "#visualize(image, bright)"
      ],
      "metadata": {
        "id": "G4hJ5xQVVXpH"
      },
      "execution_count": 10,
      "outputs": []
    },
    {
      "cell_type": "code",
      "source": [
        "rotated = tf.image.rot90(image)\n",
        "#visualize(image, rotated)"
      ],
      "metadata": {
        "id": "KVOJNMPuVgjd"
      },
      "execution_count": 11,
      "outputs": []
    },
    {
      "cell_type": "code",
      "source": [
        "cropped = tf.image.central_crop(image, central_fraction=0.5)\n",
        "#visualize(image, cropped)"
      ],
      "metadata": {
        "id": "4jdUu4NqVk_F"
      },
      "execution_count": 12,
      "outputs": []
    },
    {
      "cell_type": "markdown",
      "source": [
        "# Data Augmentation on a Dataset and Training a Model"
      ],
      "metadata": {
        "id": "-i9MBigbV1yB"
      }
    },
    {
      "cell_type": "code",
      "source": [
        "dataset, info = tfds.load('mnist', as_supervised=True, with_info=True) #load the MNIST dataset\n",
        "train_dataset, test_dataset = dataset['train'], dataset['test']\n",
        "\n",
        "num_train_examples = info.splits['train'].num_examples #number of training examples is retrieved from the dataset’s metadata."
      ],
      "metadata": {
        "id": "YKqFqZHYVyQY",
        "colab": {
          "base_uri": "https://localhost:8080/",
          "height": 104,
          "referenced_widgets": [
            "cc199f75eebe49f1b7e1b785e0952a9e",
            "5b883b1c25054bfca8ee1bd27783f801",
            "2a12481c5c124a5dbf15407ae090c67d",
            "1970c0f3744b4b4a943609cf5d20c346",
            "0a36dae82f664bbbbf1afed57ec5a177",
            "5fbc68d13106471b8b3521ca7eff6b9e",
            "d7d7f633bafc4676a7650d7efd5072b7",
            "a0a787d7f8d04413843eca780f3430b1",
            "b5aba58c3a114240a04192af56d9246a",
            "2beb2a217ba746b2b4bacc18e5a30344",
            "d0d2198c7ba042ef9a7f12b1908f03e3"
          ]
        },
        "outputId": "35dacb8a-0002-4ed7-9b17-5420e7bda265"
      },
      "execution_count": null,
      "outputs": [
        {
          "output_type": "stream",
          "name": "stdout",
          "text": [
            "Downloading and preparing dataset 11.06 MiB (download: 11.06 MiB, generated: 21.00 MiB, total: 32.06 MiB) to /root/tensorflow_datasets/mnist/3.0.1...\n"
          ]
        },
        {
          "output_type": "display_data",
          "data": {
            "text/plain": [
              "Dl Completed...:   0%|          | 0/5 [00:00<?, ? file/s]"
            ],
            "application/vnd.jupyter.widget-view+json": {
              "version_major": 2,
              "version_minor": 0,
              "model_id": "cc199f75eebe49f1b7e1b785e0952a9e"
            }
          },
          "metadata": {}
        },
        {
          "output_type": "stream",
          "name": "stdout",
          "text": [
            "Dataset mnist downloaded and prepared to /root/tensorflow_datasets/mnist/3.0.1. Subsequent calls will reuse this data.\n"
          ]
        }
      ]
    },
    {
      "cell_type": "code",
      "source": [
        "# Function to augment\n",
        "def convert(image, label): #Converts the image data type to tf.float32 and normalizes it to the range [0, 1].\n",
        "  image = tf.image.convert_image_dtype(image, tf.float32) # Cost and Normalize the image to [0,1]\n",
        "  return image, label\n",
        "\n",
        "def augment(image, label):\n",
        "  image, label = convert(image, label) #normalize the image\n",
        "  image = tf.image.convert_image_dtype(image, tf.float32) # Cost and normalize the image to [0,1]\n",
        "  image = tf.image.resize_with_crop_or_pad(image, 34, 34) # Add 6 pixels of padding\n",
        "  image = tf.image.random_crop(image, size=[28,28,1]) # Random crop back to 28x28\n",
        "  image = tf.image.random_brightness(image, max_delta=0.5) # Random brightness\n",
        "  return image, label\n",
        "\n",
        "BATCH_SIZE = 64\n",
        "\n",
        "#Only use a subset of the data so uts easier to overfit, for this tutorial\n",
        "NUM_EXAMPLES = 2048"
      ],
      "metadata": {
        "id": "g6fXCnjkWRNu"
      },
      "execution_count": null,
      "outputs": []
    },
    {
      "cell_type": "code",
      "source": [
        "# sets up the training pipeline with data augmentation\n",
        "augmented_train_batches = (\n",
        "    train_dataset\n",
        "\n",
        "    #Only take a subset, so can quickly see the effect\n",
        "    .take(NUM_EXAMPLES)\n",
        "    .cache() #Caches the dataset in memory to improve performance during training.\n",
        "    .shuffle(num_train_examples//4) #Shuffles the dataset to ensure the model sees a varied order of examples in each epoch.\n",
        "\n",
        "    #Augmentation is added here\n",
        "    .map(augment, num_parallel_calls = AUTOTUNE) #with parallel processing to speed up the augmentation.\n",
        "    .batch(BATCH_SIZE) #Groups the dataset into batches of 64\n",
        "    .prefetch(AUTOTUNE)\n",
        ")"
      ],
      "metadata": {
        "id": "xeUyfVYjXr2b"
      },
      "execution_count": null,
      "outputs": []
    },
    {
      "cell_type": "code",
      "source": [
        "non_augmented_train_batches = (\n",
        "    train_dataset\n",
        "\n",
        "    #Only take a subset, so can quickly see th effect\n",
        "    .take(NUM_EXAMPLES)\n",
        "    .cache()\n",
        "    .shuffle(num_train_examples//4)\n",
        "\n",
        "    #No augmentation\n",
        "    .map(convert, num_parallel_calls = AUTOTUNE)\n",
        "    .batch(BATCH_SIZE)\n",
        "    .prefetch(AUTOTUNE)\n",
        ")"
      ],
      "metadata": {
        "id": "FCvXxdzdYM4R"
      },
      "execution_count": null,
      "outputs": []
    },
    {
      "cell_type": "code",
      "source": [
        "validation_batches = (\n",
        "    test_dataset\n",
        "    .map(convert, num_parallel_calls = AUTOTUNE)\n",
        "    .batch(2*BATCH_SIZE)\n",
        ")"
      ],
      "metadata": {
        "id": "zVnKOx6mYvGP"
      },
      "execution_count": null,
      "outputs": []
    },
    {
      "cell_type": "code",
      "source": [
        "# Create a Neural Network Model\n",
        "\n",
        "def make_model():\n",
        "  model = tf.keras.Sequential([\n",
        "      layers.Flatten(input_shape=(28, 28, 1)),\n",
        "      layers.Dense(4096, activation='relu'),\n",
        "      layers.Dense(4096, activation='relu'),\n",
        "      layers.Dense(10)\n",
        "  ])\n",
        "  model.compile(optimizer='adam',\n",
        "                loss = tf.losses.SparseCategoricalCrossentropy(from_logits=True),\n",
        "                metrics=['accuracy'])\n",
        "  return model"
      ],
      "metadata": {
        "id": "SO6hhv9eY2Sw"
      },
      "execution_count": null,
      "outputs": []
    },
    {
      "cell_type": "markdown",
      "source": [
        "# Training the Model without Data Augmentation"
      ],
      "metadata": {
        "id": "qxDgNHwlyZWm"
      }
    },
    {
      "cell_type": "code",
      "source": [
        "model_without_aug = make_model()\n",
        "\n",
        "no_aug_history = model_without_aug.fit(non_augmented_train_batches, epochs= 50, validation_data = validation_batches)"
      ],
      "metadata": {
        "id": "9QSJep4cZ6sZ",
        "colab": {
          "base_uri": "https://localhost:8080/"
        },
        "outputId": "4288edcb-c702-4e35-f93e-997bf00504e9"
      },
      "execution_count": null,
      "outputs": [
        {
          "output_type": "stream",
          "name": "stdout",
          "text": [
            "Epoch 1/50\n",
            "\u001b[1m32/32\u001b[0m \u001b[32m━━━━━━━━━━━━━━━━━━━━\u001b[0m\u001b[37m\u001b[0m \u001b[1m27s\u001b[0m 809ms/step - accuracy: 0.6091 - loss: 1.1465 - val_accuracy: 0.8885 - val_loss: 0.3585\n",
            "Epoch 2/50\n",
            "\u001b[1m32/32\u001b[0m \u001b[32m━━━━━━━━━━━━━━━━━━━━\u001b[0m\u001b[37m\u001b[0m \u001b[1m39s\u001b[0m 745ms/step - accuracy: 0.9405 - loss: 0.1672 - val_accuracy: 0.9207 - val_loss: 0.2785\n",
            "Epoch 3/50\n",
            "\u001b[1m32/32\u001b[0m \u001b[32m━━━━━━━━━━━━━━━━━━━━\u001b[0m\u001b[37m\u001b[0m \u001b[1m24s\u001b[0m 768ms/step - accuracy: 0.9819 - loss: 0.0644 - val_accuracy: 0.9207 - val_loss: 0.2997\n",
            "Epoch 4/50\n",
            "\u001b[1m32/32\u001b[0m \u001b[32m━━━━━━━━━━━━━━━━━━━━\u001b[0m\u001b[37m\u001b[0m \u001b[1m41s\u001b[0m 771ms/step - accuracy: 0.9821 - loss: 0.0532 - val_accuracy: 0.9144 - val_loss: 0.3497\n",
            "Epoch 5/50\n",
            "\u001b[1m32/32\u001b[0m \u001b[32m━━━━━━━━━━━━━━━━━━━━\u001b[0m\u001b[37m\u001b[0m \u001b[1m41s\u001b[0m 779ms/step - accuracy: 0.9809 - loss: 0.0581 - val_accuracy: 0.9238 - val_loss: 0.3296\n",
            "Epoch 6/50\n",
            "\u001b[1m32/32\u001b[0m \u001b[32m━━━━━━━━━━━━━━━━━━━━\u001b[0m\u001b[37m\u001b[0m \u001b[1m40s\u001b[0m 739ms/step - accuracy: 0.9949 - loss: 0.0232 - val_accuracy: 0.9206 - val_loss: 0.3626\n",
            "Epoch 7/50\n",
            "\u001b[1m32/32\u001b[0m \u001b[32m━━━━━━━━━━━━━━━━━━━━\u001b[0m\u001b[37m\u001b[0m \u001b[1m24s\u001b[0m 763ms/step - accuracy: 0.9891 - loss: 0.0266 - val_accuracy: 0.9238 - val_loss: 0.3659\n",
            "Epoch 8/50\n",
            "\u001b[1m32/32\u001b[0m \u001b[32m━━━━━━━━━━━━━━━━━━━━\u001b[0m\u001b[37m\u001b[0m \u001b[1m41s\u001b[0m 766ms/step - accuracy: 0.9958 - loss: 0.0121 - val_accuracy: 0.9201 - val_loss: 0.4066\n",
            "Epoch 9/50\n",
            "\u001b[1m32/32\u001b[0m \u001b[32m━━━━━━━━━━━━━━━━━━━━\u001b[0m\u001b[37m\u001b[0m \u001b[1m40s\u001b[0m 726ms/step - accuracy: 0.9786 - loss: 0.0786 - val_accuracy: 0.9290 - val_loss: 0.3402\n",
            "Epoch 10/50\n",
            "\u001b[1m32/32\u001b[0m \u001b[32m━━━━━━━━━━━━━━━━━━━━\u001b[0m\u001b[37m\u001b[0m \u001b[1m42s\u001b[0m 770ms/step - accuracy: 0.9903 - loss: 0.0281 - val_accuracy: 0.9255 - val_loss: 0.3678\n",
            "Epoch 11/50\n",
            "\u001b[1m32/32\u001b[0m \u001b[32m━━━━━━━━━━━━━━━━━━━━\u001b[0m\u001b[37m\u001b[0m \u001b[1m42s\u001b[0m 788ms/step - accuracy: 0.9910 - loss: 0.0281 - val_accuracy: 0.9197 - val_loss: 0.4180\n",
            "Epoch 12/50\n",
            "\u001b[1m32/32\u001b[0m \u001b[32m━━━━━━━━━━━━━━━━━━━━\u001b[0m\u001b[37m\u001b[0m \u001b[1m25s\u001b[0m 786ms/step - accuracy: 0.9891 - loss: 0.0468 - val_accuracy: 0.9194 - val_loss: 0.4108\n",
            "Epoch 13/50\n",
            "\u001b[1m32/32\u001b[0m \u001b[32m━━━━━━━━━━━━━━━━━━━━\u001b[0m\u001b[37m\u001b[0m \u001b[1m41s\u001b[0m 783ms/step - accuracy: 0.9949 - loss: 0.0154 - val_accuracy: 0.9244 - val_loss: 0.4000\n",
            "Epoch 14/50\n",
            "\u001b[1m32/32\u001b[0m \u001b[32m━━━━━━━━━━━━━━━━━━━━\u001b[0m\u001b[37m\u001b[0m \u001b[1m25s\u001b[0m 780ms/step - accuracy: 0.9909 - loss: 0.0291 - val_accuracy: 0.9183 - val_loss: 0.4459\n",
            "Epoch 15/50\n",
            "\u001b[1m32/32\u001b[0m \u001b[32m━━━━━━━━━━━━━━━━━━━━\u001b[0m\u001b[37m\u001b[0m \u001b[1m24s\u001b[0m 742ms/step - accuracy: 0.9942 - loss: 0.0266 - val_accuracy: 0.9180 - val_loss: 0.4592\n",
            "Epoch 16/50\n",
            "\u001b[1m32/32\u001b[0m \u001b[32m━━━━━━━━━━━━━━━━━━━━\u001b[0m\u001b[37m\u001b[0m \u001b[1m42s\u001b[0m 783ms/step - accuracy: 0.9931 - loss: 0.0169 - val_accuracy: 0.9215 - val_loss: 0.4477\n",
            "Epoch 17/50\n",
            "\u001b[1m32/32\u001b[0m \u001b[32m━━━━━━━━━━━━━━━━━━━━\u001b[0m\u001b[37m\u001b[0m \u001b[1m40s\u001b[0m 767ms/step - accuracy: 0.9949 - loss: 0.0364 - val_accuracy: 0.9230 - val_loss: 0.4720\n",
            "Epoch 18/50\n",
            "\u001b[1m32/32\u001b[0m \u001b[32m━━━━━━━━━━━━━━━━━━━━\u001b[0m\u001b[37m\u001b[0m \u001b[1m41s\u001b[0m 773ms/step - accuracy: 0.9913 - loss: 0.0306 - val_accuracy: 0.9225 - val_loss: 0.4621\n",
            "Epoch 19/50\n",
            "\u001b[1m32/32\u001b[0m \u001b[32m━━━━━━━━━━━━━━━━━━━━\u001b[0m\u001b[37m\u001b[0m \u001b[1m41s\u001b[0m 785ms/step - accuracy: 0.9865 - loss: 0.0612 - val_accuracy: 0.9250 - val_loss: 0.4353\n",
            "Epoch 20/50\n",
            "\u001b[1m32/32\u001b[0m \u001b[32m━━━━━━━━━━━━━━━━━━━━\u001b[0m\u001b[37m\u001b[0m \u001b[1m24s\u001b[0m 771ms/step - accuracy: 0.9940 - loss: 0.0182 - val_accuracy: 0.9270 - val_loss: 0.4228\n",
            "Epoch 21/50\n",
            "\u001b[1m32/32\u001b[0m \u001b[32m━━━━━━━━━━━━━━━━━━━━\u001b[0m\u001b[37m\u001b[0m \u001b[1m24s\u001b[0m 751ms/step - accuracy: 0.9861 - loss: 0.0748 - val_accuracy: 0.9291 - val_loss: 0.4010\n",
            "Epoch 22/50\n",
            "\u001b[1m32/32\u001b[0m \u001b[32m━━━━━━━━━━━━━━━━━━━━\u001b[0m\u001b[37m\u001b[0m \u001b[1m41s\u001b[0m 767ms/step - accuracy: 0.9974 - loss: 0.0073 - val_accuracy: 0.9338 - val_loss: 0.3757\n",
            "Epoch 23/50\n",
            "\u001b[1m32/32\u001b[0m \u001b[32m━━━━━━━━━━━━━━━━━━━━\u001b[0m\u001b[37m\u001b[0m \u001b[1m41s\u001b[0m 777ms/step - accuracy: 0.9991 - loss: 0.0025 - val_accuracy: 0.9358 - val_loss: 0.3964\n",
            "Epoch 24/50\n",
            "\u001b[1m32/32\u001b[0m \u001b[32m━━━━━━━━━━━━━━━━━━━━\u001b[0m\u001b[37m\u001b[0m \u001b[1m41s\u001b[0m 780ms/step - accuracy: 1.0000 - loss: 2.2967e-04 - val_accuracy: 0.9373 - val_loss: 0.3819\n",
            "Epoch 25/50\n",
            "\u001b[1m32/32\u001b[0m \u001b[32m━━━━━━━━━━━━━━━━━━━━\u001b[0m\u001b[37m\u001b[0m \u001b[1m41s\u001b[0m 776ms/step - accuracy: 1.0000 - loss: 1.0410e-04 - val_accuracy: 0.9377 - val_loss: 0.3829\n",
            "Epoch 26/50\n",
            "\u001b[1m32/32\u001b[0m \u001b[32m━━━━━━━━━━━━━━━━━━━━\u001b[0m\u001b[37m\u001b[0m \u001b[1m25s\u001b[0m 782ms/step - accuracy: 1.0000 - loss: 7.5777e-05 - val_accuracy: 0.9379 - val_loss: 0.3841\n",
            "Epoch 27/50\n",
            "\u001b[1m32/32\u001b[0m \u001b[32m━━━━━━━━━━━━━━━━━━━━\u001b[0m\u001b[37m\u001b[0m \u001b[1m41s\u001b[0m 771ms/step - accuracy: 1.0000 - loss: 5.4447e-05 - val_accuracy: 0.9385 - val_loss: 0.3855\n",
            "Epoch 28/50\n",
            "\u001b[1m32/32\u001b[0m \u001b[32m━━━━━━━━━━━━━━━━━━━━\u001b[0m\u001b[37m\u001b[0m \u001b[1m41s\u001b[0m 759ms/step - accuracy: 1.0000 - loss: 4.4305e-05 - val_accuracy: 0.9386 - val_loss: 0.3862\n",
            "Epoch 29/50\n",
            "\u001b[1m32/32\u001b[0m \u001b[32m━━━━━━━━━━━━━━━━━━━━\u001b[0m\u001b[37m\u001b[0m \u001b[1m25s\u001b[0m 788ms/step - accuracy: 1.0000 - loss: 4.9192e-05 - val_accuracy: 0.9387 - val_loss: 0.3876\n",
            "Epoch 30/50\n",
            "\u001b[1m32/32\u001b[0m \u001b[32m━━━━━━━━━━━━━━━━━━━━\u001b[0m\u001b[37m\u001b[0m \u001b[1m24s\u001b[0m 771ms/step - accuracy: 1.0000 - loss: 3.3402e-05 - val_accuracy: 0.9388 - val_loss: 0.3886\n",
            "Epoch 31/50\n",
            "\u001b[1m32/32\u001b[0m \u001b[32m━━━━━━━━━━━━━━━━━━━━\u001b[0m\u001b[37m\u001b[0m \u001b[1m41s\u001b[0m 767ms/step - accuracy: 1.0000 - loss: 3.2666e-05 - val_accuracy: 0.9388 - val_loss: 0.3896\n",
            "Epoch 32/50\n",
            "\u001b[1m32/32\u001b[0m \u001b[32m━━━━━━━━━━━━━━━━━━━━\u001b[0m\u001b[37m\u001b[0m \u001b[1m25s\u001b[0m 785ms/step - accuracy: 1.0000 - loss: 2.6803e-05 - val_accuracy: 0.9388 - val_loss: 0.3907\n",
            "Epoch 33/50\n",
            "\u001b[1m32/32\u001b[0m \u001b[32m━━━━━━━━━━━━━━━━━━━━\u001b[0m\u001b[37m\u001b[0m \u001b[1m40s\u001b[0m 762ms/step - accuracy: 1.0000 - loss: 2.9379e-05 - val_accuracy: 0.9391 - val_loss: 0.3920\n",
            "Epoch 34/50\n",
            "\u001b[1m32/32\u001b[0m \u001b[32m━━━━━━━━━━━━━━━━━━━━\u001b[0m\u001b[37m\u001b[0m \u001b[1m41s\u001b[0m 769ms/step - accuracy: 1.0000 - loss: 2.9760e-05 - val_accuracy: 0.9393 - val_loss: 0.3933\n",
            "Epoch 35/50\n",
            "\u001b[1m32/32\u001b[0m \u001b[32m━━━━━━━━━━━━━━━━━━━━\u001b[0m\u001b[37m\u001b[0m \u001b[1m41s\u001b[0m 768ms/step - accuracy: 1.0000 - loss: 2.3401e-05 - val_accuracy: 0.9393 - val_loss: 0.3940\n",
            "Epoch 36/50\n",
            "\u001b[1m32/32\u001b[0m \u001b[32m━━━━━━━━━━━━━━━━━━━━\u001b[0m\u001b[37m\u001b[0m \u001b[1m41s\u001b[0m 750ms/step - accuracy: 1.0000 - loss: 2.0112e-05 - val_accuracy: 0.9397 - val_loss: 0.3952\n",
            "Epoch 37/50\n",
            "\u001b[1m32/32\u001b[0m \u001b[32m━━━━━━━━━━━━━━━━━━━━\u001b[0m\u001b[37m\u001b[0m \u001b[1m24s\u001b[0m 769ms/step - accuracy: 1.0000 - loss: 1.8492e-05 - val_accuracy: 0.9400 - val_loss: 0.3963\n",
            "Epoch 38/50\n",
            "\u001b[1m32/32\u001b[0m \u001b[32m━━━━━━━━━━━━━━━━━━━━\u001b[0m\u001b[37m\u001b[0m \u001b[1m41s\u001b[0m 772ms/step - accuracy: 1.0000 - loss: 2.2464e-05 - val_accuracy: 0.9397 - val_loss: 0.3974\n",
            "Epoch 39/50\n",
            "\u001b[1m32/32\u001b[0m \u001b[32m━━━━━━━━━━━━━━━━━━━━\u001b[0m\u001b[37m\u001b[0m \u001b[1m24s\u001b[0m 767ms/step - accuracy: 1.0000 - loss: 1.5260e-05 - val_accuracy: 0.9401 - val_loss: 0.3987\n",
            "Epoch 40/50\n",
            "\u001b[1m32/32\u001b[0m \u001b[32m━━━━━━━━━━━━━━━━━━━━\u001b[0m\u001b[37m\u001b[0m \u001b[1m41s\u001b[0m 765ms/step - accuracy: 1.0000 - loss: 1.5721e-05 - val_accuracy: 0.9400 - val_loss: 0.3994\n",
            "Epoch 41/50\n",
            "\u001b[1m32/32\u001b[0m \u001b[32m━━━━━━━━━━━━━━━━━━━━\u001b[0m\u001b[37m\u001b[0m \u001b[1m41s\u001b[0m 767ms/step - accuracy: 1.0000 - loss: 1.4147e-05 - val_accuracy: 0.9397 - val_loss: 0.4007\n",
            "Epoch 42/50\n",
            "\u001b[1m32/32\u001b[0m \u001b[32m━━━━━━━━━━━━━━━━━━━━\u001b[0m\u001b[37m\u001b[0m \u001b[1m24s\u001b[0m 768ms/step - accuracy: 1.0000 - loss: 1.4771e-05 - val_accuracy: 0.9396 - val_loss: 0.4018\n",
            "Epoch 43/50\n",
            "\u001b[1m32/32\u001b[0m \u001b[32m━━━━━━━━━━━━━━━━━━━━\u001b[0m\u001b[37m\u001b[0m \u001b[1m41s\u001b[0m 765ms/step - accuracy: 1.0000 - loss: 1.3617e-05 - val_accuracy: 0.9397 - val_loss: 0.4028\n",
            "Epoch 44/50\n",
            "\u001b[1m32/32\u001b[0m \u001b[32m━━━━━━━━━━━━━━━━━━━━\u001b[0m\u001b[37m\u001b[0m \u001b[1m24s\u001b[0m 762ms/step - accuracy: 1.0000 - loss: 1.1829e-05 - val_accuracy: 0.9399 - val_loss: 0.4038\n",
            "Epoch 45/50\n",
            "\u001b[1m32/32\u001b[0m \u001b[32m━━━━━━━━━━━━━━━━━━━━\u001b[0m\u001b[37m\u001b[0m \u001b[1m23s\u001b[0m 727ms/step - accuracy: 1.0000 - loss: 1.2802e-05 - val_accuracy: 0.9399 - val_loss: 0.4050\n",
            "Epoch 46/50\n",
            "\u001b[1m32/32\u001b[0m \u001b[32m━━━━━━━━━━━━━━━━━━━━\u001b[0m\u001b[37m\u001b[0m \u001b[1m42s\u001b[0m 768ms/step - accuracy: 1.0000 - loss: 1.0868e-05 - val_accuracy: 0.9399 - val_loss: 0.4060\n",
            "Epoch 47/50\n",
            "\u001b[1m32/32\u001b[0m \u001b[32m━━━━━━━━━━━━━━━━━━━━\u001b[0m\u001b[37m\u001b[0m \u001b[1m41s\u001b[0m 764ms/step - accuracy: 1.0000 - loss: 1.1075e-05 - val_accuracy: 0.9398 - val_loss: 0.4070\n",
            "Epoch 48/50\n",
            "\u001b[1m32/32\u001b[0m \u001b[32m━━━━━━━━━━━━━━━━━━━━\u001b[0m\u001b[37m\u001b[0m \u001b[1m41s\u001b[0m 772ms/step - accuracy: 1.0000 - loss: 1.0551e-05 - val_accuracy: 0.9400 - val_loss: 0.4079\n",
            "Epoch 49/50\n",
            "\u001b[1m32/32\u001b[0m \u001b[32m━━━━━━━━━━━━━━━━━━━━\u001b[0m\u001b[37m\u001b[0m \u001b[1m45s\u001b[0m 911ms/step - accuracy: 1.0000 - loss: 1.1504e-05 - val_accuracy: 0.9399 - val_loss: 0.4088\n",
            "Epoch 50/50\n",
            "\u001b[1m32/32\u001b[0m \u001b[32m━━━━━━━━━━━━━━━━━━━━\u001b[0m\u001b[37m\u001b[0m \u001b[1m52s\u001b[0m 1s/step - accuracy: 1.0000 - loss: 9.8217e-06 - val_accuracy: 0.9399 - val_loss: 0.4100\n"
          ]
        }
      ]
    },
    {
      "cell_type": "markdown",
      "source": [
        "# Training the Model with Augmented Data"
      ],
      "metadata": {
        "id": "TH16nUJ29apx"
      }
    },
    {
      "cell_type": "code",
      "source": [
        "model_with_aug = make_model()\n",
        "\n",
        "aug_history = model_with_aug.fit(augmented_train_batches, epochs= 50, validation_data = validation_batches)"
      ],
      "metadata": {
        "colab": {
          "base_uri": "https://localhost:8080/"
        },
        "id": "3LqafbeEym-w",
        "outputId": "c98e46d9-4cd2-4011-9b89-fc7ba1ebc3fd"
      },
      "execution_count": null,
      "outputs": [
        {
          "output_type": "stream",
          "name": "stderr",
          "text": [
            "/usr/local/lib/python3.10/dist-packages/keras/src/layers/reshaping/flatten.py:37: UserWarning: Do not pass an `input_shape`/`input_dim` argument to a layer. When using Sequential models, prefer using an `Input(shape)` object as the first layer in the model instead.\n",
            "  super().__init__(**kwargs)\n"
          ]
        },
        {
          "output_type": "stream",
          "name": "stdout",
          "text": [
            "Epoch 1/50\n",
            "\u001b[1m32/32\u001b[0m \u001b[32m━━━━━━━━━━━━━━━━━━━━\u001b[0m\u001b[37m\u001b[0m \u001b[1m32s\u001b[0m 937ms/step - accuracy: 0.2336 - loss: 2.7722 - val_accuracy: 0.6965 - val_loss: 1.0988\n",
            "Epoch 2/50\n",
            "\u001b[1m32/32\u001b[0m \u001b[32m━━━━━━━━━━━━━━━━━━━━\u001b[0m\u001b[37m\u001b[0m \u001b[1m30s\u001b[0m 939ms/step - accuracy: 0.5120 - loss: 1.4309 - val_accuracy: 0.8086 - val_loss: 0.7375\n",
            "Epoch 3/50\n",
            "\u001b[1m32/32\u001b[0m \u001b[32m━━━━━━━━━━━━━━━━━━━━\u001b[0m\u001b[37m\u001b[0m \u001b[1m52s\u001b[0m 1s/step - accuracy: 0.6858 - loss: 0.9778 - val_accuracy: 0.8537 - val_loss: 0.5124\n",
            "Epoch 4/50\n",
            "\u001b[1m32/32\u001b[0m \u001b[32m━━━━━━━━━━━━━━━━━━━━\u001b[0m\u001b[37m\u001b[0m \u001b[1m30s\u001b[0m 960ms/step - accuracy: 0.7481 - loss: 0.8100 - val_accuracy: 0.8843 - val_loss: 0.3996\n",
            "Epoch 5/50\n",
            "\u001b[1m32/32\u001b[0m \u001b[32m━━━━━━━━━━━━━━━━━━━━\u001b[0m\u001b[37m\u001b[0m \u001b[1m41s\u001b[0m 962ms/step - accuracy: 0.7852 - loss: 0.6629 - val_accuracy: 0.8813 - val_loss: 0.3812\n",
            "Epoch 6/50\n",
            "\u001b[1m32/32\u001b[0m \u001b[32m━━━━━━━━━━━━━━━━━━━━\u001b[0m\u001b[37m\u001b[0m \u001b[1m31s\u001b[0m 978ms/step - accuracy: 0.7859 - loss: 0.6586 - val_accuracy: 0.8835 - val_loss: 0.3389\n",
            "Epoch 7/50\n",
            "\u001b[1m32/32\u001b[0m \u001b[32m━━━━━━━━━━━━━━━━━━━━\u001b[0m\u001b[37m\u001b[0m \u001b[1m50s\u001b[0m 1s/step - accuracy: 0.8209 - loss: 0.5461 - val_accuracy: 0.9123 - val_loss: 0.2825\n",
            "Epoch 8/50\n",
            "\u001b[1m32/32\u001b[0m \u001b[32m━━━━━━━━━━━━━━━━━━━━\u001b[0m\u001b[37m\u001b[0m \u001b[1m31s\u001b[0m 941ms/step - accuracy: 0.8106 - loss: 0.5706 - val_accuracy: 0.9239 - val_loss: 0.2634\n",
            "Epoch 9/50\n",
            "\u001b[1m32/32\u001b[0m \u001b[32m━━━━━━━━━━━━━━━━━━━━\u001b[0m\u001b[37m\u001b[0m \u001b[1m40s\u001b[0m 1s/step - accuracy: 0.8570 - loss: 0.4360 - val_accuracy: 0.9255 - val_loss: 0.2428\n",
            "Epoch 10/50\n",
            "\u001b[1m32/32\u001b[0m \u001b[32m━━━━━━━━━━━━━━━━━━━━\u001b[0m\u001b[37m\u001b[0m \u001b[1m30s\u001b[0m 946ms/step - accuracy: 0.8542 - loss: 0.4420 - val_accuracy: 0.9325 - val_loss: 0.2220\n",
            "Epoch 11/50\n",
            "\u001b[1m32/32\u001b[0m \u001b[32m━━━━━━━━━━━━━━━━━━━━\u001b[0m\u001b[37m\u001b[0m \u001b[1m30s\u001b[0m 934ms/step - accuracy: 0.8527 - loss: 0.4717 - val_accuracy: 0.9320 - val_loss: 0.2222\n",
            "Epoch 12/50\n",
            "\u001b[1m32/32\u001b[0m \u001b[32m━━━━━━━━━━━━━━━━━━━━\u001b[0m\u001b[37m\u001b[0m \u001b[1m29s\u001b[0m 927ms/step - accuracy: 0.8710 - loss: 0.4167 - val_accuracy: 0.9373 - val_loss: 0.2045\n",
            "Epoch 13/50\n",
            "\u001b[1m32/32\u001b[0m \u001b[32m━━━━━━━━━━━━━━━━━━━━\u001b[0m\u001b[37m\u001b[0m \u001b[1m41s\u001b[0m 914ms/step - accuracy: 0.8820 - loss: 0.3561 - val_accuracy: 0.9348 - val_loss: 0.2160\n",
            "Epoch 14/50\n",
            "\u001b[1m32/32\u001b[0m \u001b[32m━━━━━━━━━━━━━━━━━━━━\u001b[0m\u001b[37m\u001b[0m \u001b[1m41s\u001b[0m 921ms/step - accuracy: 0.8791 - loss: 0.3818 - val_accuracy: 0.9387 - val_loss: 0.1928\n",
            "Epoch 15/50\n",
            "\u001b[1m32/32\u001b[0m \u001b[32m━━━━━━━━━━━━━━━━━━━━\u001b[0m\u001b[37m\u001b[0m \u001b[1m29s\u001b[0m 923ms/step - accuracy: 0.8902 - loss: 0.3436 - val_accuracy: 0.9307 - val_loss: 0.2085\n",
            "Epoch 16/50\n",
            "\u001b[1m32/32\u001b[0m \u001b[32m━━━━━━━━━━━━━━━━━━━━\u001b[0m\u001b[37m\u001b[0m \u001b[1m29s\u001b[0m 925ms/step - accuracy: 0.8756 - loss: 0.3350 - val_accuracy: 0.9333 - val_loss: 0.2091\n",
            "Epoch 17/50\n",
            "\u001b[1m32/32\u001b[0m \u001b[32m━━━━━━━━━━━━━━━━━━━━\u001b[0m\u001b[37m\u001b[0m \u001b[1m41s\u001b[0m 925ms/step - accuracy: 0.8837 - loss: 0.3747 - val_accuracy: 0.9378 - val_loss: 0.2035\n",
            "Epoch 18/50\n",
            "\u001b[1m32/32\u001b[0m \u001b[32m━━━━━━━━━━━━━━━━━━━━\u001b[0m\u001b[37m\u001b[0m \u001b[1m41s\u001b[0m 917ms/step - accuracy: 0.8966 - loss: 0.2957 - val_accuracy: 0.9460 - val_loss: 0.1684\n",
            "Epoch 19/50\n",
            "\u001b[1m32/32\u001b[0m \u001b[32m━━━━━━━━━━━━━━━━━━━━\u001b[0m\u001b[37m\u001b[0m \u001b[1m41s\u001b[0m 919ms/step - accuracy: 0.8817 - loss: 0.3651 - val_accuracy: 0.9422 - val_loss: 0.1797\n",
            "Epoch 20/50\n",
            "\u001b[1m32/32\u001b[0m \u001b[32m━━━━━━━━━━━━━━━━━━━━\u001b[0m\u001b[37m\u001b[0m \u001b[1m42s\u001b[0m 943ms/step - accuracy: 0.8855 - loss: 0.3453 - val_accuracy: 0.9410 - val_loss: 0.1855\n",
            "Epoch 21/50\n",
            "\u001b[1m32/32\u001b[0m \u001b[32m━━━━━━━━━━━━━━━━━━━━\u001b[0m\u001b[37m\u001b[0m \u001b[1m29s\u001b[0m 924ms/step - accuracy: 0.9160 - loss: 0.2358 - val_accuracy: 0.9481 - val_loss: 0.1727\n",
            "Epoch 22/50\n",
            "\u001b[1m32/32\u001b[0m \u001b[32m━━━━━━━━━━━━━━━━━━━━\u001b[0m\u001b[37m\u001b[0m \u001b[1m41s\u001b[0m 927ms/step - accuracy: 0.9363 - loss: 0.2258 - val_accuracy: 0.9504 - val_loss: 0.1632\n",
            "Epoch 23/50\n",
            "\u001b[1m32/32\u001b[0m \u001b[32m━━━━━━━━━━━━━━━━━━━━\u001b[0m\u001b[37m\u001b[0m \u001b[1m29s\u001b[0m 916ms/step - accuracy: 0.9112 - loss: 0.2816 - val_accuracy: 0.9494 - val_loss: 0.1726\n",
            "Epoch 24/50\n",
            "\u001b[1m32/32\u001b[0m \u001b[32m━━━━━━━━━━━━━━━━━━━━\u001b[0m\u001b[37m\u001b[0m \u001b[1m41s\u001b[0m 917ms/step - accuracy: 0.9160 - loss: 0.2580 - val_accuracy: 0.9499 - val_loss: 0.1628\n",
            "Epoch 25/50\n",
            "\u001b[1m32/32\u001b[0m \u001b[32m━━━━━━━━━━━━━━━━━━━━\u001b[0m\u001b[37m\u001b[0m \u001b[1m29s\u001b[0m 928ms/step - accuracy: 0.9188 - loss: 0.2478 - val_accuracy: 0.9472 - val_loss: 0.1776\n",
            "Epoch 26/50\n",
            "\u001b[1m32/32\u001b[0m \u001b[32m━━━━━━━━━━━━━━━━━━━━\u001b[0m\u001b[37m\u001b[0m \u001b[1m41s\u001b[0m 943ms/step - accuracy: 0.9232 - loss: 0.2422 - val_accuracy: 0.9472 - val_loss: 0.1769\n",
            "Epoch 27/50\n",
            "\u001b[1m32/32\u001b[0m \u001b[32m━━━━━━━━━━━━━━━━━━━━\u001b[0m\u001b[37m\u001b[0m \u001b[1m40s\u001b[0m 914ms/step - accuracy: 0.9243 - loss: 0.2501 - val_accuracy: 0.9528 - val_loss: 0.1533\n",
            "Epoch 28/50\n",
            "\u001b[1m32/32\u001b[0m \u001b[32m━━━━━━━━━━━━━━━━━━━━\u001b[0m\u001b[37m\u001b[0m \u001b[1m41s\u001b[0m 923ms/step - accuracy: 0.9260 - loss: 0.2370 - val_accuracy: 0.9486 - val_loss: 0.1623\n",
            "Epoch 29/50\n",
            "\u001b[1m32/32\u001b[0m \u001b[32m━━━━━━━━━━━━━━━━━━━━\u001b[0m\u001b[37m\u001b[0m \u001b[1m29s\u001b[0m 916ms/step - accuracy: 0.9328 - loss: 0.2160 - val_accuracy: 0.9463 - val_loss: 0.1719\n",
            "Epoch 30/50\n",
            "\u001b[1m32/32\u001b[0m \u001b[32m━━━━━━━━━━━━━━━━━━━━\u001b[0m\u001b[37m\u001b[0m \u001b[1m41s\u001b[0m 925ms/step - accuracy: 0.9271 - loss: 0.2209 - val_accuracy: 0.9476 - val_loss: 0.1741\n",
            "Epoch 31/50\n",
            "\u001b[1m32/32\u001b[0m \u001b[32m━━━━━━━━━━━━━━━━━━━━\u001b[0m\u001b[37m\u001b[0m \u001b[1m53s\u001b[0m 1s/step - accuracy: 0.9124 - loss: 0.2698 - val_accuracy: 0.9484 - val_loss: 0.1752\n",
            "Epoch 32/50\n",
            "\u001b[1m32/32\u001b[0m \u001b[32m━━━━━━━━━━━━━━━━━━━━\u001b[0m\u001b[37m\u001b[0m \u001b[1m79s\u001b[0m 1s/step - accuracy: 0.9288 - loss: 0.2393 - val_accuracy: 0.9510 - val_loss: 0.1613\n",
            "Epoch 33/50\n",
            "\u001b[1m32/32\u001b[0m \u001b[32m━━━━━━━━━━━━━━━━━━━━\u001b[0m\u001b[37m\u001b[0m \u001b[1m36s\u001b[0m 1s/step - accuracy: 0.9217 - loss: 0.2227 - val_accuracy: 0.9505 - val_loss: 0.1591\n",
            "Epoch 34/50\n",
            "\u001b[1m32/32\u001b[0m \u001b[32m━━━━━━━━━━━━━━━━━━━━\u001b[0m\u001b[37m\u001b[0m \u001b[1m34s\u001b[0m 1s/step - accuracy: 0.9390 - loss: 0.1655 - val_accuracy: 0.9530 - val_loss: 0.1521\n",
            "Epoch 35/50\n",
            "\u001b[1m32/32\u001b[0m \u001b[32m━━━━━━━━━━━━━━━━━━━━\u001b[0m\u001b[37m\u001b[0m \u001b[1m37s\u001b[0m 956ms/step - accuracy: 0.9250 - loss: 0.2218 - val_accuracy: 0.9541 - val_loss: 0.1499\n",
            "Epoch 36/50\n",
            "\u001b[1m32/32\u001b[0m \u001b[32m━━━━━━━━━━━━━━━━━━━━\u001b[0m\u001b[37m\u001b[0m \u001b[1m42s\u001b[0m 975ms/step - accuracy: 0.9414 - loss: 0.2137 - val_accuracy: 0.9463 - val_loss: 0.1758\n",
            "Epoch 37/50\n",
            "\u001b[1m32/32\u001b[0m \u001b[32m━━━━━━━━━━━━━━━━━━━━\u001b[0m\u001b[37m\u001b[0m \u001b[1m41s\u001b[0m 973ms/step - accuracy: 0.9451 - loss: 0.1800 - val_accuracy: 0.9517 - val_loss: 0.1678\n",
            "Epoch 38/50\n",
            "\u001b[1m32/32\u001b[0m \u001b[32m━━━━━━━━━━━━━━━━━━━━\u001b[0m\u001b[37m\u001b[0m \u001b[1m30s\u001b[0m 961ms/step - accuracy: 0.9534 - loss: 0.1570 - val_accuracy: 0.9487 - val_loss: 0.1708\n",
            "Epoch 39/50\n",
            "\u001b[1m32/32\u001b[0m \u001b[32m━━━━━━━━━━━━━━━━━━━━\u001b[0m\u001b[37m\u001b[0m \u001b[1m41s\u001b[0m 954ms/step - accuracy: 0.9479 - loss: 0.1703 - val_accuracy: 0.9491 - val_loss: 0.1731\n",
            "Epoch 40/50\n",
            "\u001b[1m32/32\u001b[0m \u001b[32m━━━━━━━━━━━━━━━━━━━━\u001b[0m\u001b[37m\u001b[0m \u001b[1m30s\u001b[0m 942ms/step - accuracy: 0.9456 - loss: 0.1538 - val_accuracy: 0.9522 - val_loss: 0.1606\n",
            "Epoch 41/50\n",
            "\u001b[1m32/32\u001b[0m \u001b[32m━━━━━━━━━━━━━━━━━━━━\u001b[0m\u001b[37m\u001b[0m \u001b[1m41s\u001b[0m 954ms/step - accuracy: 0.9589 - loss: 0.1333 - val_accuracy: 0.9488 - val_loss: 0.1595\n",
            "Epoch 42/50\n",
            "\u001b[1m32/32\u001b[0m \u001b[32m━━━━━━━━━━━━━━━━━━━━\u001b[0m\u001b[37m\u001b[0m \u001b[1m41s\u001b[0m 940ms/step - accuracy: 0.9088 - loss: 0.2546 - val_accuracy: 0.9503 - val_loss: 0.1598\n",
            "Epoch 43/50\n",
            "\u001b[1m32/32\u001b[0m \u001b[32m━━━━━━━━━━━━━━━━━━━━\u001b[0m\u001b[37m\u001b[0m \u001b[1m41s\u001b[0m 938ms/step - accuracy: 0.9479 - loss: 0.1634 - val_accuracy: 0.9525 - val_loss: 0.1559\n",
            "Epoch 44/50\n",
            "\u001b[1m32/32\u001b[0m \u001b[32m━━━━━━━━━━━━━━━━━━━━\u001b[0m\u001b[37m\u001b[0m \u001b[1m51s\u001b[0m 1s/step - accuracy: 0.9380 - loss: 0.1946 - val_accuracy: 0.9535 - val_loss: 0.1484\n",
            "Epoch 45/50\n",
            "\u001b[1m32/32\u001b[0m \u001b[32m━━━━━━━━━━━━━━━━━━━━\u001b[0m\u001b[37m\u001b[0m \u001b[1m41s\u001b[0m 1s/step - accuracy: 0.9562 - loss: 0.1510 - val_accuracy: 0.9565 - val_loss: 0.1544\n",
            "Epoch 46/50\n",
            "\u001b[1m32/32\u001b[0m \u001b[32m━━━━━━━━━━━━━━━━━━━━\u001b[0m\u001b[37m\u001b[0m \u001b[1m41s\u001b[0m 1s/step - accuracy: 0.9548 - loss: 0.1274 - val_accuracy: 0.9574 - val_loss: 0.1491\n",
            "Epoch 47/50\n",
            "\u001b[1m32/32\u001b[0m \u001b[32m━━━━━━━━━━━━━━━━━━━━\u001b[0m\u001b[37m\u001b[0m \u001b[1m31s\u001b[0m 933ms/step - accuracy: 0.9423 - loss: 0.1707 - val_accuracy: 0.9507 - val_loss: 0.1559\n",
            "Epoch 48/50\n",
            "\u001b[1m32/32\u001b[0m \u001b[32m━━━━━━━━━━━━━━━━━━━━\u001b[0m\u001b[37m\u001b[0m \u001b[1m29s\u001b[0m 932ms/step - accuracy: 0.9412 - loss: 0.1781 - val_accuracy: 0.9523 - val_loss: 0.1623\n",
            "Epoch 49/50\n",
            "\u001b[1m32/32\u001b[0m \u001b[32m━━━━━━━━━━━━━━━━━━━━\u001b[0m\u001b[37m\u001b[0m \u001b[1m41s\u001b[0m 943ms/step - accuracy: 0.9453 - loss: 0.1878 - val_accuracy: 0.9509 - val_loss: 0.1702\n",
            "Epoch 50/50\n",
            "\u001b[1m32/32\u001b[0m \u001b[32m━━━━━━━━━━━━━━━━━━━━\u001b[0m\u001b[37m\u001b[0m \u001b[1m29s\u001b[0m 927ms/step - accuracy: 0.9352 - loss: 0.2074 - val_accuracy: 0.9550 - val_loss: 0.1480\n"
          ]
        }
      ]
    },
    {
      "cell_type": "markdown",
      "source": [
        "Accuracy of augmented model is higher than non augmented"
      ],
      "metadata": {
        "id": "9svqTjNBB2yn"
      }
    },
    {
      "cell_type": "code",
      "source": [
        "plotter = tfdocs.plots.HistoryPlotter()\n",
        "plotter.plot({\"Augmented\": aug_history, \"Non-Augmented\": no_aug_history}, metric = \"accuracy\")\n",
        "plt.title(\"Accuracy\")\n",
        "plt.ylim([0.75, 1])"
      ],
      "metadata": {
        "colab": {
          "base_uri": "https://localhost:8080/",
          "height": 408
        },
        "id": "8L93lH5A9pHA",
        "outputId": "2a2155a4-307e-4416-b57f-84f5f58e20e0"
      },
      "execution_count": null,
      "outputs": [
        {
          "output_type": "execute_result",
          "data": {
            "text/plain": [
              "(0.75, 1.0)"
            ]
          },
          "metadata": {},
          "execution_count": 26
        },
        {
          "output_type": "display_data",
          "data": {
            "text/plain": [
              "<Figure size 1200x500 with 1 Axes>"
            ],
            "image/png": "[encoded data removed]"
          },
          "metadata": {}
        }
      ]
    },
    {
      "cell_type": "markdown",
      "source": [
        "Non augmented model is overfitting the dataset\n",
        "\n",
        "Augmented model fits well"
      ],
      "metadata": {
        "id": "ZsY3QBPxCY-g"
      }
    }
  ]
}